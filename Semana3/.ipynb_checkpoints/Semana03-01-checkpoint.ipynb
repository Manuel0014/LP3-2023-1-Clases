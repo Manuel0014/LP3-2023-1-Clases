{
 "cells": [
  {
   "cell_type": "markdown",
   "id": "d8211a11",
   "metadata": {},
   "source": [
    "# Semana03\n",
    "Edwin Paucar"
   ]
  },
  {
   "cell_type": "raw",
   "id": "bb1ffa5b",
   "metadata": {},
   "source": [
    "Temas:\n",
    "    1. Números \n",
    "    2. variables\n",
    "    3. Manejo de cadenas\n",
    "    4. Ingreso de datos por teclado\n",
    "    5. Operadores"
   ]
  },
  {
   "cell_type": "markdown",
   "id": "a2c1f4ef",
   "metadata": {},
   "source": [
    "1. Números "
   ]
  },
  {
   "cell_type": "code",
   "execution_count": 2,
   "id": "5fdb875a",
   "metadata": {},
   "outputs": [
    {
     "data": {
      "text/plain": [
       "10"
      ]
     },
     "execution_count": 2,
     "metadata": {},
     "output_type": "execute_result"
    }
   ],
   "source": [
    "5+5"
   ]
  },
  {
   "cell_type": "code",
   "execution_count": 3,
   "id": "8ddabaca",
   "metadata": {},
   "outputs": [
    {
     "data": {
      "text/plain": [
       "48"
      ]
     },
     "execution_count": 3,
     "metadata": {},
     "output_type": "execute_result"
    }
   ],
   "source": [
    "8*6"
   ]
  },
  {
   "cell_type": "code",
   "execution_count": 4,
   "id": "9c89b0a8",
   "metadata": {},
   "outputs": [
    {
     "data": {
      "text/plain": [
       "1.0"
      ]
     },
     "execution_count": 4,
     "metadata": {},
     "output_type": "execute_result"
    }
   ],
   "source": [
    "8/8"
   ]
  },
  {
   "cell_type": "code",
   "execution_count": null,
   "id": "fe5143b0",
   "metadata": {},
   "outputs": [],
   "source": []
  }
 ],
 "metadata": {
  "kernelspec": {
   "display_name": "Python 3 (ipykernel)",
   "language": "python",
   "name": "python3"
  },
  "language_info": {
   "codemirror_mode": {
    "name": "ipython",
    "version": 3
   },
   "file_extension": ".py",
   "mimetype": "text/x-python",
   "name": "python",
   "nbconvert_exporter": "python",
   "pygments_lexer": "ipython3",
   "version": "3.9.12"
  }
 },
 "nbformat": 4,
 "nbformat_minor": 5
}
