{
 "cells": [
  {
   "cell_type": "markdown",
   "id": "375a0ba5",
   "metadata": {},
   "source": [
    "# Semana03\n",
    "Edwin Paucar"
   ]
  },
  {
   "cell_type": "raw",
   "id": "5b50098e",
   "metadata": {},
   "source": [
    "Temas:\n",
    "    1. Números \n",
    "    2. variables\n",
    "    3. Manejo de cadenas\n",
    "    4. Ingreso de datos por teclado\n",
    "    5. Operadores"
   ]
  },
  {
   "cell_type": "markdown",
   "id": "ee62fd22",
   "metadata": {},
   "source": [
    "2. Variables"
   ]
  },
  {
   "cell_type": "code",
   "execution_count": 2,
   "id": "61894169",
   "metadata": {},
   "outputs": [],
   "source": [
    "edad = 19"
   ]
  },
  {
   "cell_type": "code",
   "execution_count": 3,
   "id": "15fcc125",
   "metadata": {},
   "outputs": [
    {
     "data": {
      "text/plain": [
       "19"
      ]
     },
     "execution_count": 3,
     "metadata": {},
     "output_type": "execute_result"
    }
   ],
   "source": [
    "edad"
   ]
  },
  {
   "cell_type": "code",
   "execution_count": 4,
   "id": "12947ddc",
   "metadata": {},
   "outputs": [],
   "source": [
    "nombre= \"flor\""
   ]
  },
  {
   "cell_type": "code",
   "execution_count": 5,
   "id": "8f524486",
   "metadata": {},
   "outputs": [
    {
     "data": {
      "text/plain": [
       "'flor'"
      ]
     },
     "execution_count": 5,
     "metadata": {},
     "output_type": "execute_result"
    }
   ],
   "source": [
    "nombre"
   ]
  },
  {
   "cell_type": "code",
   "execution_count": 8,
   "id": "213cdb2c",
   "metadata": {},
   "outputs": [],
   "source": [
    "apellido=\"Cerdan Leon\""
   ]
  },
  {
   "cell_type": "code",
   "execution_count": 9,
   "id": "082c3739",
   "metadata": {},
   "outputs": [
    {
     "data": {
      "text/plain": [
       "'Cerdan Leon'"
      ]
     },
     "execution_count": 9,
     "metadata": {},
     "output_type": "execute_result"
    }
   ],
   "source": [
    "apellido"
   ]
  },
  {
   "cell_type": "code",
   "execution_count": 12,
   "id": "6e027619",
   "metadata": {},
   "outputs": [],
   "source": [
    "nombrecompleto=nombre + \" \" + apellido"
   ]
  },
  {
   "cell_type": "code",
   "execution_count": 13,
   "id": "69a01ec9",
   "metadata": {},
   "outputs": [
    {
     "data": {
      "text/plain": [
       "'flor Cerdan Leon'"
      ]
     },
     "execution_count": 13,
     "metadata": {},
     "output_type": "execute_result"
    }
   ],
   "source": [
    "nombrecompleto"
   ]
  },
  {
   "cell_type": "code",
   "execution_count": 14,
   "id": "de8d227d",
   "metadata": {},
   "outputs": [
    {
     "data": {
      "text/plain": [
       "int"
      ]
     },
     "execution_count": 14,
     "metadata": {},
     "output_type": "execute_result"
    }
   ],
   "source": [
    "numero  = 50\n",
    "type(numero)"
   ]
  },
  {
   "cell_type": "code",
   "execution_count": 15,
   "id": "188a750a",
   "metadata": {},
   "outputs": [
    {
     "data": {
      "text/plain": [
       "1.78"
      ]
     },
     "execution_count": 15,
     "metadata": {},
     "output_type": "execute_result"
    }
   ],
   "source": [
    "talla = 1.78\n",
    "talla"
   ]
  },
  {
   "cell_type": "code",
   "execution_count": 16,
   "id": "6a40b8f3",
   "metadata": {},
   "outputs": [
    {
     "data": {
      "text/plain": [
       "float"
      ]
     },
     "execution_count": 16,
     "metadata": {},
     "output_type": "execute_result"
    }
   ],
   "source": [
    "type(talla)"
   ]
  },
  {
   "cell_type": "code",
   "execution_count": 17,
   "id": "357508a5",
   "metadata": {},
   "outputs": [],
   "source": [
    "numero = 100\n",
    "cadena=str(numero)"
   ]
  },
  {
   "cell_type": "code",
   "execution_count": 18,
   "id": "8d7f500f",
   "metadata": {},
   "outputs": [
    {
     "data": {
      "text/plain": [
       "'100'"
      ]
     },
     "execution_count": 18,
     "metadata": {},
     "output_type": "execute_result"
    }
   ],
   "source": [
    "cadena"
   ]
  },
  {
   "cell_type": "code",
   "execution_count": null,
   "id": "b9d5c3ce",
   "metadata": {},
   "outputs": [],
   "source": []
  }
 ],
 "metadata": {
  "kernelspec": {
   "display_name": "Python 3 (ipykernel)",
   "language": "python",
   "name": "python3"
  },
  "language_info": {
   "codemirror_mode": {
    "name": "ipython",
    "version": 3
   },
   "file_extension": ".py",
   "mimetype": "text/x-python",
   "name": "python",
   "nbconvert_exporter": "python",
   "pygments_lexer": "ipython3",
   "version": "3.9.12"
  }
 },
 "nbformat": 4,
 "nbformat_minor": 5
}
